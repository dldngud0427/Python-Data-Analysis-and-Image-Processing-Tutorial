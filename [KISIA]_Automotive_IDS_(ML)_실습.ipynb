{
  "nbformat": 4,
  "nbformat_minor": 0,
  "metadata": {
    "colab": {
      "provenance": [],
      "include_colab_link": true
    },
    "kernelspec": {
      "name": "python3",
      "display_name": "Python 3"
    },
    "language_info": {
      "name": "python"
    }
  },
  "cells": [
    {
      "cell_type": "markdown",
      "metadata": {
        "id": "view-in-github",
        "colab_type": "text"
      },
      "source": [
        "<a href=\"https://colab.research.google.com/github/dldngud0427/Python-Data-Analysis-and-Image-Processing-Tutorial/blob/master/%5BKISIA%5D_Automotive_IDS_(ML)_%EC%8B%A4%EC%8A%B5.ipynb\" target=\"_parent\"><img src=\"https://colab.research.google.com/assets/colab-badge.svg\" alt=\"Open In Colab\"/></a>"
      ]
    },
    {
      "cell_type": "markdown",
      "source": [
        "# Download"
      ],
      "metadata": {
        "id": "MtmcvY4C3SL-"
      }
    },
    {
      "cell_type": "code",
      "source": [
        "!pip install gdown"
      ],
      "metadata": {
        "colab": {
          "base_uri": "https://localhost:8080/"
        },
        "id": "SCifSL7D7MIg",
        "outputId": "d4154c2c-2b06-4822-c24d-52f92d658f6d"
      },
      "execution_count": null,
      "outputs": [
        {
          "output_type": "stream",
          "name": "stdout",
          "text": [
            "Looking in indexes: https://pypi.org/simple, https://us-python.pkg.dev/colab-wheels/public/simple/\n",
            "Requirement already satisfied: gdown in /usr/local/lib/python3.7/dist-packages (4.4.0)\n",
            "Requirement already satisfied: six in /usr/local/lib/python3.7/dist-packages (from gdown) (1.15.0)\n",
            "Requirement already satisfied: beautifulsoup4 in /usr/local/lib/python3.7/dist-packages (from gdown) (4.6.3)\n",
            "Requirement already satisfied: tqdm in /usr/local/lib/python3.7/dist-packages (from gdown) (4.64.0)\n",
            "Requirement already satisfied: filelock in /usr/local/lib/python3.7/dist-packages (from gdown) (3.8.0)\n",
            "Requirement already satisfied: requests[socks] in /usr/local/lib/python3.7/dist-packages (from gdown) (2.23.0)\n",
            "Requirement already satisfied: certifi>=2017.4.17 in /usr/local/lib/python3.7/dist-packages (from requests[socks]->gdown) (2022.6.15)\n",
            "Requirement already satisfied: idna<3,>=2.5 in /usr/local/lib/python3.7/dist-packages (from requests[socks]->gdown) (2.10)\n",
            "Requirement already satisfied: chardet<4,>=3.0.2 in /usr/local/lib/python3.7/dist-packages (from requests[socks]->gdown) (3.0.4)\n",
            "Requirement already satisfied: urllib3!=1.25.0,!=1.25.1,<1.26,>=1.21.1 in /usr/local/lib/python3.7/dist-packages (from requests[socks]->gdown) (1.24.3)\n",
            "Requirement already satisfied: PySocks!=1.5.7,>=1.5.6 in /usr/local/lib/python3.7/dist-packages (from requests[socks]->gdown) (1.7.1)\n"
          ]
        }
      ]
    },
    {
      "cell_type": "code",
      "execution_count": null,
      "metadata": {
        "colab": {
          "base_uri": "https://localhost:8080/"
        },
        "id": "zkYyYIxm3CZf",
        "outputId": "592f99aa-b47f-406f-d86c-96365e9301a9"
      },
      "outputs": [
        {
          "output_type": "stream",
          "name": "stdout",
          "text": [
            "/usr/local/lib/python3.7/dist-packages/gdown/cli.py:131: FutureWarning: Option `--id` was deprecated in version 4.3.1 and will be removed in 5.0. You don't need to pass it anymore to use a file ID.\n",
            "  category=FutureWarning,\n",
            "Downloading...\n",
            "From: https://drive.google.com/uc?id=1FTjcnWC8bXgN8AI0hT0l16KvardlOQEj\n",
            "To: /content/Sample_Train_Dataset.csv\n",
            "100% 15.7M/15.7M [00:00<00:00, 153MB/s]\n",
            "/usr/local/lib/python3.7/dist-packages/gdown/cli.py:131: FutureWarning: Option `--id` was deprecated in version 4.3.1 and will be removed in 5.0. You don't need to pass it anymore to use a file ID.\n",
            "  category=FutureWarning,\n",
            "Downloading...\n",
            "From: https://drive.google.com/uc?id=1q_ALDNEsxsvA1hXoR7Mw3E90Nl5RjJDj\n",
            "To: /content/Sample_Test_Dataset.csv\n",
            "100% 13.6M/13.6M [00:00<00:00, 131MB/s]\n",
            "/usr/local/lib/python3.7/dist-packages/gdown/cli.py:131: FutureWarning: Option `--id` was deprecated in version 4.3.1 and will be removed in 5.0. You don't need to pass it anymore to use a file ID.\n",
            "  category=FutureWarning,\n",
            "Downloading...\n",
            "From: https://drive.google.com/uc?id=1JOvqTZSlxgoCQInmRbsVVylBrs0SXjt6\n",
            "To: /content/Sample_Answer.csv\n",
            "100% 2.63M/2.63M [00:00<00:00, 67.4MB/s]\n"
          ]
        }
      ],
      "source": [
        "!gdown --id 1FTjcnWC8bXgN8AI0hT0l16KvardlOQEj --output Sample_Train_Dataset.csv\n",
        "!gdown --id 1q_ALDNEsxsvA1hXoR7Mw3E90Nl5RjJDj --output Sample_Test_Dataset.csv\n",
        "!gdown --id 1JOvqTZSlxgoCQInmRbsVVylBrs0SXjt6 --output Sample_Answer.csv"
      ]
    },
    {
      "cell_type": "code",
      "source": [
        "!ls"
      ],
      "metadata": {
        "colab": {
          "base_uri": "https://localhost:8080/"
        },
        "id": "VXLxe7PJ7O3A",
        "outputId": "39acbe4b-cbb4-42d2-816a-8709b2c2ee4b"
      },
      "execution_count": null,
      "outputs": [
        {
          "output_type": "stream",
          "name": "stdout",
          "text": [
            "Sample_Answer.csv  Sample_Test_Dataset.csv\n",
            "sample_data\t   Sample_Train_Dataset.csv\n"
          ]
        }
      ]
    },
    {
      "cell_type": "markdown",
      "source": [
        "# Library"
      ],
      "metadata": {
        "id": "50tkDh9W3aFs"
      }
    },
    {
      "cell_type": "code",
      "source": [
        "import joblib\n",
        "import numpy as np\n",
        "import pandas as pd\n",
        "import seaborn as sns\n",
        "\n",
        "from sklearn.ensemble import RandomForestClassifier\n",
        "from sklearn.metrics import confusion_matrix, classification_report"
      ],
      "metadata": {
        "id": "Vk1x2IUh3biL"
      },
      "execution_count": null,
      "outputs": []
    },
    {
      "cell_type": "markdown",
      "source": [
        "# Dataset"
      ],
      "metadata": {
        "id": "N2JmAQ6Z3jv9"
      }
    },
    {
      "cell_type": "code",
      "source": [
        "sample_train_file = './Sample_Train_Dataset.csv'\n",
        "sample_test_file = './Sample_Test_Dataset.csv'\n",
        "sample_answer_file = './Sample_Answer.csv'"
      ],
      "metadata": {
        "id": "GUo36z1E3cWo"
      },
      "execution_count": null,
      "outputs": []
    },
    {
      "cell_type": "markdown",
      "source": [
        "# Preprocessing"
      ],
      "metadata": {
        "id": "aSSK9TCA6H4W"
      }
    },
    {
      "cell_type": "code",
      "source": [
        "def preprocessing(msg):\n",
        "  df = pd.DataFrame(columns=['ID', 'D1', 'D2', 'D3', 'D4', 'D5', 'D6', 'D7', 'D8'])\n",
        "\n",
        "  # ID\n",
        "  df['ID'] = msg['Arbitration_ID'].apply(int, base=16)\n",
        "\n",
        "  # Data\n",
        "  _data = []\n",
        "  for i in msg['Data'].values:\n",
        "    line = i.split(' ')\n",
        "\n",
        "    if len(line) < 8:\n",
        "      line += ['00'] * (8 - len(line))\n",
        "\n",
        "    _data.append([int(l, 16) for l in line])\n",
        "  data = np.array(_data)\n",
        "\n",
        "  df['D1'] = data[:, 0]\n",
        "  df['D2'] = data[:, 1]\n",
        "  df['D3'] = data[:, 2]\n",
        "  df['D4'] = data[:, 3]\n",
        "  df['D5'] = data[:, 4]\n",
        "  df['D6'] = data[:, 5]\n",
        "  df['D7'] = data[:, 6]\n",
        "  df['D8'] = data[:, 7]\n",
        "\n",
        "  return df"
      ],
      "metadata": {
        "id": "P2_xU0-051xP"
      },
      "execution_count": null,
      "outputs": []
    },
    {
      "cell_type": "markdown",
      "source": [
        "# Model"
      ],
      "metadata": {
        "id": "EZP6jNEx74S7"
      }
    },
    {
      "cell_type": "code",
      "source": [
        "rfc = RandomForestClassifier()"
      ],
      "metadata": {
        "id": "PsAWTcpg64j6"
      },
      "execution_count": null,
      "outputs": []
    },
    {
      "cell_type": "markdown",
      "source": [
        "# Train"
      ],
      "metadata": {
        "id": "5lSL6nqr8Rem"
      }
    },
    {
      "cell_type": "code",
      "source": [
        "train_msg = pd.read_csv(sample_train_file)\n",
        "print(train_msg)"
      ],
      "metadata": {
        "colab": {
          "base_uri": "https://localhost:8080/"
        },
        "id": "w8i1IcZH8SaP",
        "outputId": "922b9c80-a23b-4051-b205-a1618e4a1dc3"
      },
      "execution_count": null,
      "outputs": [
        {
          "output_type": "stream",
          "name": "stdout",
          "text": [
            "         Timestamp Arbitration_ID  DLC                     Data   Class\n",
            "0         0.066729            316    8  45 32 1A 0A 32 28 00 7F  Normal\n",
            "1         0.066965            18F    8  FE 65 32 00 00 43 00 00  Normal\n",
            "2         0.067199             80    8  00 17 1A 0A 32 28 32 3C  Normal\n",
            "3         0.067438             81    8  40 84 89 00 00 00 00 3C  Normal\n",
            "4         0.067678            165    8  11 F8 7F 00 00 00 0A 9C  Normal\n",
            "...            ...            ...  ...                      ...     ...\n",
            "325227  143.297302            440    8  FF 00 00 00 FF 40 09 00  Normal\n",
            "325228  143.298875            316    8  45 32 CC 09 32 27 00 7F  Normal\n",
            "325229  143.299325            329    8  84 B1 7E 8C 11 36 00 10  Normal\n",
            "325230  143.299557            545    8  C8 13 00 8A 5B 00 5F 00  Normal\n",
            "325231  143.299795             80    8  00 17 CC 09 32 27 32 AA  Normal\n",
            "\n",
            "[325232 rows x 5 columns]\n"
          ]
        }
      ]
    },
    {
      "cell_type": "code",
      "source": [
        "train_feature = preprocessing(msg=train_msg)\n",
        "print(train_feature)"
      ],
      "metadata": {
        "colab": {
          "base_uri": "https://localhost:8080/"
        },
        "id": "o8Ibx7uVAYxl",
        "outputId": "9dc0aff6-b574-4c9d-c3e7-a2db3a131427"
      },
      "execution_count": null,
      "outputs": [
        {
          "output_type": "stream",
          "name": "stdout",
          "text": [
            "          ID   D1   D2   D3   D4   D5  D6  D7   D8\n",
            "0        790   69   50   26   10   50  40   0  127\n",
            "1        399  254  101   50    0    0  67   0    0\n",
            "2        128    0   23   26   10   50  40  50   60\n",
            "3        129   64  132  137    0    0   0   0   60\n",
            "4        357   17  248  127    0    0   0  10  156\n",
            "...      ...  ...  ...  ...  ...  ...  ..  ..  ...\n",
            "325227  1088  255    0    0    0  255  64   9    0\n",
            "325228   790   69   50  204    9   50  39   0  127\n",
            "325229   809  132  177  126  140   17  54   0   16\n",
            "325230  1349  200   19    0  138   91   0  95    0\n",
            "325231   128    0   23  204    9   50  39  50  170\n",
            "\n",
            "[325232 rows x 9 columns]\n"
          ]
        }
      ]
    },
    {
      "cell_type": "code",
      "source": [
        "train_label = np.array([1 if i == 'Attack' else 0 for i in train_msg['Class'].values])\n",
        "print(train_label)"
      ],
      "metadata": {
        "colab": {
          "base_uri": "https://localhost:8080/"
        },
        "id": "vZPhMHJxV82O",
        "outputId": "cd348b81-7c45-43dd-fa8f-7ffddd97b689"
      },
      "execution_count": null,
      "outputs": [
        {
          "output_type": "stream",
          "name": "stdout",
          "text": [
            "[0 0 0 ... 0 0 0]\n"
          ]
        }
      ]
    },
    {
      "cell_type": "code",
      "source": [
        "rfc.fit(train_feature, train_label)"
      ],
      "metadata": {
        "colab": {
          "base_uri": "https://localhost:8080/"
        },
        "id": "21D4drZi_idJ",
        "outputId": "f7fe29c3-5414-4bfb-f699-50d4ab1ff905"
      },
      "execution_count": null,
      "outputs": [
        {
          "output_type": "execute_result",
          "data": {
            "text/plain": [
              "RandomForestClassifier()"
            ]
          },
          "metadata": {},
          "execution_count": 11
        }
      ]
    },
    {
      "cell_type": "code",
      "source": [
        "joblib.dump(rfc, './sample_random_forest_classifier.pkl')"
      ],
      "metadata": {
        "colab": {
          "base_uri": "https://localhost:8080/"
        },
        "id": "xNi8uew4-S4-",
        "outputId": "6e7a5fb9-dbbb-4151-d175-6c7ab3b10046"
      },
      "execution_count": null,
      "outputs": [
        {
          "output_type": "execute_result",
          "data": {
            "text/plain": [
              "['./sample_random_forest_classifier.pkl']"
            ]
          },
          "metadata": {},
          "execution_count": 12
        }
      ]
    },
    {
      "cell_type": "markdown",
      "source": [
        "# Test"
      ],
      "metadata": {
        "id": "i1d7GCSO8S0-"
      }
    },
    {
      "cell_type": "code",
      "source": [
        "trained_rfc = joblib.load('./sample_random_forest_classifier.pkl')"
      ],
      "metadata": {
        "id": "F1BtIMxW_9tt"
      },
      "execution_count": null,
      "outputs": []
    },
    {
      "cell_type": "code",
      "source": [
        "test_msg = pd.read_csv(sample_test_file)\n",
        "print(test_msg)"
      ],
      "metadata": {
        "colab": {
          "base_uri": "https://localhost:8080/"
        },
        "id": "SxcUToJQANXb",
        "outputId": "6ace790e-3cbe-4e1d-920a-911d74af5df4"
      },
      "execution_count": null,
      "outputs": [
        {
          "output_type": "stream",
          "name": "stdout",
          "text": [
            "         Timestamp Arbitration_ID  DLC                     Data\n",
            "0         0.834348            690    8  03 00 01 10 80 00 24 04\n",
            "1         0.836906            4B1    8  00 00 00 00 00 00 00 00\n",
            "2         0.837154            164    8  00 08 00 00 00 00 0D 05\n",
            "3         0.837386            2A0    8  A2 00 84 9C 56 1F 86 05\n",
            "4         0.837621             80    8  00 17 64 0B 26 27 27 CD\n",
            "...            ...            ...  ...                      ...\n",
            "329159  156.680470             81    8  40 84 83 00 00 00 00 8D\n",
            "329160  156.680712            18F    8  00 53 1A 00 00 3F 00 00\n",
            "329161  156.680944            2A0    8  A2 00 83 9C 56 1F 86 05\n",
            "329162  156.681183            329    8  0F B2 7E 8C 11 30 00 10\n",
            "329163  156.681429            382    8  40 FE 0F 00 00 00 00 0C\n",
            "\n",
            "[329164 rows x 4 columns]\n"
          ]
        }
      ]
    },
    {
      "cell_type": "code",
      "source": [
        "test_feature = preprocessing(msg=test_msg)\n",
        "print(test_feature)"
      ],
      "metadata": {
        "colab": {
          "base_uri": "https://localhost:8080/"
        },
        "id": "G2uqJRbPAsRz",
        "outputId": "0ba42240-c7b9-495a-a87c-3493415ea80b"
      },
      "execution_count": null,
      "outputs": [
        {
          "output_type": "stream",
          "name": "stdout",
          "text": [
            "          ID   D1   D2   D3   D4   D5  D6   D7   D8\n",
            "0       1680    3    0    1   16  128   0   36    4\n",
            "1       1201    0    0    0    0    0   0    0    0\n",
            "2        356    0    8    0    0    0   0   13    5\n",
            "3        672  162    0  132  156   86  31  134    5\n",
            "4        128    0   23  100   11   38  39   39  205\n",
            "...      ...  ...  ...  ...  ...  ...  ..  ...  ...\n",
            "329159   129   64  132  131    0    0   0    0  141\n",
            "329160   399    0   83   26    0    0  63    0    0\n",
            "329161   672  162    0  131  156   86  31  134    5\n",
            "329162   809   15  178  126  140   17  48    0   16\n",
            "329163   898   64  254   15    0    0   0    0   12\n",
            "\n",
            "[329164 rows x 9 columns]\n"
          ]
        }
      ]
    },
    {
      "cell_type": "code",
      "source": [
        "pred_label = trained_rfc.predict(test_feature)\n",
        "print(pred_label)"
      ],
      "metadata": {
        "colab": {
          "base_uri": "https://localhost:8080/"
        },
        "id": "VBUr2fcmB4uJ",
        "outputId": "bdea8a34-1a15-4731-8554-c0b157f6a55c"
      },
      "execution_count": null,
      "outputs": [
        {
          "output_type": "stream",
          "name": "stdout",
          "text": [
            "[0 0 0 ... 0 0 0]\n"
          ]
        }
      ]
    },
    {
      "cell_type": "markdown",
      "source": [
        "# Submission"
      ],
      "metadata": {
        "id": "Tdt4YVIkD3RC"
      }
    },
    {
      "cell_type": "code",
      "source": [
        "submission = pd.DataFrame(columns=['Number', 'Class'])\n",
        "submission['Number'] = test_msg.index + 1\n",
        "submission['Class'] = pred_label\n",
        "submission.to_csv('./sample_submission.csv', index=False)\n",
        "print(submission)"
      ],
      "metadata": {
        "colab": {
          "base_uri": "https://localhost:8080/"
        },
        "id": "lll653CjEFbx",
        "outputId": "4461d812-f796-4508-95d1-023af6dc31c7"
      },
      "execution_count": null,
      "outputs": [
        {
          "output_type": "stream",
          "name": "stdout",
          "text": [
            "        Number  Class\n",
            "0            1      0\n",
            "1            2      0\n",
            "2            3      0\n",
            "3            4      0\n",
            "4            5      0\n",
            "...        ...    ...\n",
            "329159  329160      0\n",
            "329160  329161      0\n",
            "329161  329162      0\n",
            "329162  329163      0\n",
            "329163  329164      0\n",
            "\n",
            "[329164 rows x 2 columns]\n"
          ]
        }
      ]
    },
    {
      "cell_type": "code",
      "source": [
        "pred_label = submission['Class'].values\n",
        "print(pred_label)"
      ],
      "metadata": {
        "colab": {
          "base_uri": "https://localhost:8080/"
        },
        "id": "58HU-ArCD406",
        "outputId": "b3e90beb-ee0e-4640-94e2-dbc1e352b004"
      },
      "execution_count": null,
      "outputs": [
        {
          "output_type": "stream",
          "name": "stdout",
          "text": [
            "[0 0 0 ... 0 0 0]\n"
          ]
        }
      ]
    },
    {
      "cell_type": "code",
      "source": [
        "answer = pd.read_csv(sample_answer_file)\n",
        "\n",
        "true_label = np.array([1 if i == 'Attack' else 0 for i in answer['Class'].values])\n",
        "print(true_label)"
      ],
      "metadata": {
        "colab": {
          "base_uri": "https://localhost:8080/"
        },
        "id": "5qIFmwVILucn",
        "outputId": "8099654c-3df9-47ee-efd5-8c4ec48fc84f"
      },
      "execution_count": null,
      "outputs": [
        {
          "output_type": "stream",
          "name": "stdout",
          "text": [
            "[0 0 0 ... 0 0 0]\n"
          ]
        }
      ]
    },
    {
      "cell_type": "code",
      "source": [
        "ax = confusion_matrix(true_label, pred_label)\n",
        "sns.heatmap(ax, annot=True, fmt='d', cmap='Blues')"
      ],
      "metadata": {
        "colab": {
          "base_uri": "https://localhost:8080/"
        },
        "id": "MP18u7qEIP8W",
        "outputId": "3de7911b-0b63-44fa-f28f-d7bee2e0f125"
      },
      "execution_count": null,
      "outputs": [
        {
          "output_type": "execute_result",
          "data": {
            "text/plain": [
              "<matplotlib.axes._subplots.AxesSubplot at 0x7f40dfb636d0>"
            ]
          },
          "metadata": {},
          "execution_count": 20
        },
        {
          "output_type": "display_data",
          "data": {
            "text/plain": [
              "<Figure size 432x288 with 2 Axes>"
            ],
            "image/png": "[encoded data removed]"
          },
          "metadata": {
            "needs_background": "light"
          }
        }
      ]
    },
    {
      "cell_type": "code",
      "source": [
        "print(classification_report(true_label, pred_label, target_names=['Normal', 'Attack']))"
      ],
      "metadata": {
        "colab": {
          "base_uri": "https://localhost:8080/"
        },
        "id": "GhJnrslICF1N",
        "outputId": "a6d87115-b15d-46bf-e1bc-29923d8fe50f"
      },
      "execution_count": null,
      "outputs": [
        {
          "output_type": "stream",
          "name": "stdout",
          "text": [
            "              precision    recall  f1-score   support\n",
            "\n",
            "      Normal       0.98      0.92      0.95    306239\n",
            "      Attack       0.43      0.78      0.55     22925\n",
            "\n",
            "    accuracy                           0.91    329164\n",
            "   macro avg       0.70      0.85      0.75    329164\n",
            "weighted avg       0.94      0.91      0.92    329164\n",
            "\n"
          ]
        }
      ]
    },
    {
      "cell_type": "markdown",
      "source": [
        "# Mini Challenge\n",
        "\n",
        "*   제출 : axolotl0210@gmail.com"
      ],
      "metadata": {
        "id": "7rvxpT_iDTjG"
      }
    },
    {
      "cell_type": "code",
      "source": [
        "!gdown --id 1J3D7LD_pEHE6BdsMNV8n89YbJSpyuoXB --output Mini_Challenge_Train_Dataset.csv\n",
        "!gdown --id 1DwFZ1qTCTfH7eEvKHzAHuNkO0qCG91NG --output Mini_Challenge_Test_Dataset.csv"
      ],
      "metadata": {
        "colab": {
          "base_uri": "https://localhost:8080/"
        },
        "id": "1fFoO5GY-DH6",
        "outputId": "2a961678-1e3b-457c-badd-8bd6e8212dcf"
      },
      "execution_count": null,
      "outputs": [
        {
          "output_type": "stream",
          "name": "stdout",
          "text": [
            "/usr/local/lib/python3.7/dist-packages/gdown/cli.py:131: FutureWarning: Option `--id` was deprecated in version 4.3.1 and will be removed in 5.0. You don't need to pass it anymore to use a file ID.\n",
            "  category=FutureWarning,\n",
            "Downloading...\n",
            "From: https://drive.google.com/uc?id=1J3D7LD_pEHE6BdsMNV8n89YbJSpyuoXB\n",
            "To: /content/Mini_Challenge_Train_Dataset.csv\n",
            "100% 25.7M/25.7M [00:00<00:00, 168MB/s]\n",
            "/usr/local/lib/python3.7/dist-packages/gdown/cli.py:131: FutureWarning: Option `--id` was deprecated in version 4.3.1 and will be removed in 5.0. You don't need to pass it anymore to use a file ID.\n",
            "  category=FutureWarning,\n",
            "Downloading...\n",
            "From: https://drive.google.com/uc?id=1DwFZ1qTCTfH7eEvKHzAHuNkO0qCG91NG\n",
            "To: /content/Mini_Challenge_Test_Dataset.csv\n",
            "100% 16.2M/16.2M [00:00<00:00, 160MB/s]\n"
          ]
        }
      ]
    },
    {
      "cell_type": "code",
      "source": [
        "!ls"
      ],
      "metadata": {
        "colab": {
          "base_uri": "https://localhost:8080/"
        },
        "id": "XbFg0Q2IDrZb",
        "outputId": "2bb30fe7-e5cd-4b63-a8e3-26e310745543"
      },
      "execution_count": null,
      "outputs": [
        {
          "output_type": "stream",
          "name": "stdout",
          "text": [
            "Mini_Challenge_Test_Dataset.csv   sample_random_forest_classifier.pkl\n",
            "Mini_Challenge_Train_Dataset.csv  sample_submission.csv\n",
            "Sample_Answer.csv\t\t  Sample_Test_Dataset.csv\n",
            "sample_data\t\t\t  Sample_Train_Dataset.csv\n"
          ]
        }
      ]
    },
    {
      "cell_type": "markdown",
      "source": [
        "## Dataset"
      ],
      "metadata": {
        "id": "8f3Y-t6WG-MJ"
      }
    },
    {
      "cell_type": "code",
      "source": [
        "mini_challenge_train_file = './Mini_Challenge_Train_Dataset.csv'\n",
        "mini_challenge_test_file = './Mini_Challenge_Test_Dataset.csv'"
      ],
      "metadata": {
        "id": "mtFldtSiFwlU"
      },
      "execution_count": null,
      "outputs": []
    },
    {
      "cell_type": "code",
      "source": [],
      "metadata": {
        "id": "dmHs-DvNaaHt"
      },
      "execution_count": null,
      "outputs": []
    }
  ]
}